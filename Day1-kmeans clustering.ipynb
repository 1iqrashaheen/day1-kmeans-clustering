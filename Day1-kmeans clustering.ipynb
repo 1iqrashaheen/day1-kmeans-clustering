{
 "cells": [
  {
   "cell_type": "code",
   "execution_count": 15,
   "id": "14496ad1",
   "metadata": {},
   "outputs": [],
   "source": [
    "import numpy as np\n",
    "\n",
    "cluster1 = np.array([2, 4])\n",
    "cluster2 = np.array([5, 9])\n",
    "cluster3 = np.array([6, 14])\n",
    "cluster4 = np.array([12, 24])\n",
    "\n",
    "k1=cluster1\n",
    "k2=cluster2\n"
   ]
  },
  {
   "cell_type": "code",
   "execution_count": 16,
   "id": "d5cd47ab",
   "metadata": {},
   "outputs": [],
   "source": [
    "# Function to calculate Euclidean distance\n",
    "def euclidean_distance(cluster1, cluster2):\n",
    "    return np.linalg.norm(cluster2 - cluster1)\n",
    "\n",
    "# distances between all pairs of clusters\n",
    "distances = {\n",
    "    'cluster1-cluster2': euclidean_distance(cluster1, cluster2),\n",
    "    'cluster1-cluster3': euclidean_distance(cluster1, cluster3),\n",
    "    'cluster1-cluster4': euclidean_distance(cluster1, cluster4),\n",
    "    'cluster2-cluster3': euclidean_distance(cluster2, cluster3),\n",
    "    'cluster2-cluster4': euclidean_distance(cluster2, cluster4),\n",
    "    'cluster3-cluster4': euclidean_distance(cluster3, cluster4)\n",
    "}"
   ]
  },
  {
   "cell_type": "code",
   "execution_count": 17,
   "id": "fc0ab74e",
   "metadata": {},
   "outputs": [],
   "source": [
    "# pair with the smallest distance\n",
    "min_distance_key = min(distances, key=distances.get)\n",
    "min_distance = distances[min_distance_key]"
   ]
  },
  {
   "cell_type": "code",
   "execution_count": 18,
   "id": "512e536a",
   "metadata": {},
   "outputs": [
    {
     "name": "stdout",
     "output_type": "stream",
     "text": [
      "The smallest distance is 5.0990195135927845 between cluster2-cluster3.\n"
     ]
    }
   ],
   "source": [
    "print(f\"The smallest distance is {min_distance} between {min_distance_key}.\")"
   ]
  },
  {
   "cell_type": "code",
   "execution_count": 19,
   "id": "4c2552cf",
   "metadata": {},
   "outputs": [],
   "source": [
    "average_x = (cluster2[0] + cluster3[0]) / 2\n",
    "average_y = (cluster2[1] + cluster3[1]) / 2\n",
    "average_cluster = np.array([average_x, average_y])\n",
    "\n",
    "# Update k1 with the average of cluster2 and cluster3\n",
    "k1 = average_cluster"
   ]
  },
  {
   "cell_type": "code",
   "execution_count": 20,
   "id": "c615f2a5",
   "metadata": {},
   "outputs": [
    {
     "name": "stdout",
     "output_type": "stream",
     "text": [
      "Updated k1: [ 5.5 11.5]\n"
     ]
    }
   ],
   "source": [
    "print(f\"Updated k1: {k1}\")"
   ]
  },
  {
   "cell_type": "code",
   "execution_count": null,
   "id": "826eb758",
   "metadata": {},
   "outputs": [],
   "source": []
  }
 ],
 "metadata": {
  "kernelspec": {
   "display_name": "Python 3 (ipykernel)",
   "language": "python",
   "name": "python3"
  },
  "language_info": {
   "codemirror_mode": {
    "name": "ipython",
    "version": 3
   },
   "file_extension": ".py",
   "mimetype": "text/x-python",
   "name": "python",
   "nbconvert_exporter": "python",
   "pygments_lexer": "ipython3",
   "version": "3.11.4"
  }
 },
 "nbformat": 4,
 "nbformat_minor": 5
}
